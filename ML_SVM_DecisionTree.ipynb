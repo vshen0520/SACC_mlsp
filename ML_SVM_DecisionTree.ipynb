{
 "cells": [
  {
   "cell_type": "code",
   "execution_count": 8,
   "metadata": {},
   "outputs": [
    {
     "name": "stdout",
     "output_type": "stream",
     "text": [
      "(906, 10, 862)\n"
     ]
    }
   ],
   "source": [
    "# load 4-class data\n",
    "X = np.load(\"features_4class.npy\")\n",
    "print(np.shape(X))"
   ]
  },
  {
   "cell_type": "code",
   "execution_count": 9,
   "metadata": {},
   "outputs": [],
   "source": [
    "# PCA \n",
    "from sklearn.decomposition import PCA\n",
    "proj = np.zeros(shape=(906,10,862))\n",
    "\n",
    "for i in range(906):\n",
    "    X1 = X[i,:,:]\n",
    "    pca = PCA(whiten=True)\n",
    "    X_pca = pca.fit_transform(X1)\n",
    "    proj[i,:,:] = pca.inverse_transform(X_pca)\n",
    "\n",
    "X = proj"
   ]
  },
  {
   "cell_type": "code",
   "execution_count": 10,
   "metadata": {},
   "outputs": [
    {
     "name": "stdout",
     "output_type": "stream",
     "text": [
      "(906, 4)\n"
     ]
    }
   ],
   "source": [
    "y_accent = datanew['native_language']\n",
    "\n",
    "encoder1 = LabelEncoder()\n",
    "encoder1.fit(y_accent)\n",
    "y_accent_ = encoder1.transform(y_accent)\n",
    "y_accent_ = to_categorical(np.array(y_accent_),dtype='float32')\n",
    "print(np.shape(y_accent_))  #4 categories."
   ]
  },
  {
   "cell_type": "code",
   "execution_count": 61,
   "metadata": {},
   "outputs": [
    {
     "name": "stdout",
     "output_type": "stream",
     "text": [
      "Train set: (724, 10, 862, 1) (724, 4)\n",
      "Test set: (182, 10, 862, 1) (182, 4)\n",
      "[[0. 1. 0. 0.]\n",
      " [0. 1. 0. 0.]\n",
      " [0. 1. 0. 0.]\n",
      " ...\n",
      " [0. 1. 0. 0.]\n",
      " [0. 1. 0. 0.]\n",
      " [0. 1. 0. 0.]]\n"
     ]
    }
   ],
   "source": [
    "from sklearn.model_selection import train_test_split\n",
    "from sklearn.model_selection import train_test_split\n",
    "\n",
    "X_train, X_test, y_accent_train, y_accent_test = train_test_split(X, y_accent_, test_size=0.2, random_state=10)\n",
    "\n",
    "mean = np.mean(X_train, axis=0)\n",
    "std = np.std(X_train, axis=0)\n",
    "\n",
    "X_train = (X_train - mean)/std\n",
    "X_test = (X_test - mean)/std\n",
    "X_train= np.expand_dims(X_train, axis=3)\n",
    "X_test= np.expand_dims(X_test, axis=3)\n",
    "\n",
    "#X_train, X_val, y_accent_train, y_accent_val = train_test_split(X_train, y_accent_train, test_size=0.15, random_state=10)\n",
    "#X_val = (X_val - mean)/std\n",
    "#X_val= np.expand_dims(X_val, axis=3)\n",
    "\n",
    "print ('Train set:', X_train.shape,  y_accent_train.shape)\n",
    "print ('Test set:', X_test.shape,  y_accent_test.shape)\n",
    "#print ('validation set:', X_val.shape,  y_accent_val.shape)\n",
    "mean = np.mean(X_train, axis=0)\n",
    "std = np.std(X_train, axis=0)\n",
    "\n",
    "X_train = (X_train - mean)/std\n",
    "X_test = (X_test - mean)/std\n",
    "X_train= np.expand_dims(X_train, axis=3)\n",
    "X_test= np.expand_dims(X_test, axis=3)\n",
    "\n",
    "#X_train, X_val, y_accent_train, y_accent_val = train_test_split(X_train, y_accent_train, test_size=0.15, random_state=10)\n",
    "#X_val = (X_val - mean)/std\n",
    "#X_val= np.expand_dims(X_val, axis=3)\n",
    "\n",
    "print ('Train set:', X_train.shape,  y_accent_train.shape)\n",
    "print ('Test set:', X_test.shape,  y_accent_test.shape)\n",
    "#print ('validation set:', X_val.shape,  y_accent_val.shape)\n",
    "print(y_accent_train)"
   ]
  },
  {
   "cell_type": "markdown",
   "metadata": {},
   "source": [
    "# SVM"
   ]
  },
  {
   "cell_type": "code",
   "execution_count": 85,
   "metadata": {},
   "outputs": [
    {
     "name": "stdout",
     "output_type": "stream",
     "text": [
      "(724, 8620) (724, 1)\n"
     ]
    }
   ],
   "source": [
    "y_accent_ml = np.zeros(shape=(906,1))\n",
    "X_ml = np.reshape(X,(906,8620))\n",
    "for i in range(906):\n",
    "    for j in range(4):\n",
    "        if y_accent_[i,j]==1:\n",
    "            y_accent_ml[i,0] = j\n",
    "            \n",
    "from sklearn.model_selection import train_test_split\n",
    "\n",
    "X_train_ml, X_test_ml, y_accent_train_ml, y_accent_testml = train_test_split(X_ml, y_accent_ml, test_size=0.2, random_state=10)\n",
    "print(X_train_ml.shape, y_accent_train_ml.shape)"
   ]
  },
  {
   "cell_type": "code",
   "execution_count": 86,
   "metadata": {},
   "outputs": [
    {
     "name": "stdout",
     "output_type": "stream",
     "text": [
      "(724, 8620)\n",
      "(724, 1)\n"
     ]
    }
   ],
   "source": [
    "# reshape data\n",
    "y_accent_train_ml = np.zeros(shape=(724,1))\n",
    "X_train_ml = np.reshape(X_train,(724,8620))\n",
    "print(X_train_ml.shape)\n",
    "y_accent_test_ml = np.zeros(shape=(182,1))\n",
    "X_test_ml = np.reshape(X_test,(182,8620))\n",
    "\n",
    "for i in range(724):\n",
    "    for j in range(4):\n",
    "        if y_accent_train[i,j]==1:\n",
    "            y_accent_train_ml[i,0] = j\n",
    "for i in range(182):\n",
    "    for j in range(4):\n",
    "        if y_accent_test[i,j]==1:\n",
    "            y_accent_test_ml[i,0] = j\n",
    "print(y_accent_train_ml.shape)"
   ]
  },
  {
   "cell_type": "code",
   "execution_count": 88,
   "metadata": {},
   "outputs": [
    {
     "name": "stderr",
     "output_type": "stream",
     "text": [
      "/opt/anaconda3/lib/python3.9/site-packages/sklearn/utils/validation.py:63: DataConversionWarning: A column-vector y was passed when a 1d array was expected. Please change the shape of y to (n_samples, ), for example using ravel().\n",
      "  return f(*args, **kwargs)\n"
     ]
    },
    {
     "name": "stdout",
     "output_type": "stream",
     "text": [
      "svc train: 0.9019337016574586\n"
     ]
    },
    {
     "name": "stderr",
     "output_type": "stream",
     "text": [
      "/opt/anaconda3/lib/python3.9/site-packages/sklearn/utils/validation.py:63: DataConversionWarning: A column-vector y was passed when a 1d array was expected. Please change the shape of y to (n_samples, ), for example using ravel().\n",
      "  return f(*args, **kwargs)\n"
     ]
    },
    {
     "name": "stdout",
     "output_type": "stream",
     "text": [
      "svc test: 0.8186813186813187\n"
     ]
    }
   ],
   "source": [
    "from sklearn.svm import SVC\n",
    "from sklearn.metrics import accuracy_score as acc\n",
    "\n",
    "svm = SVC(kernel=\"rbf\")\n",
    "print(\"svc train:\", acc(y_accent_train_ml,svc.fit(X_train_ml,y_accent_train_ml).predict(X_train_ml)))\n",
    "print(\"svc test:\", acc(y_accent_test_ml,svc.fit(X_test_ml,y_accent_test_ml).predict(X_test_ml)))\n"
   ]
  },
  {
   "cell_type": "code",
   "execution_count": 71,
   "metadata": {},
   "outputs": [
    {
     "name": "stdout",
     "output_type": "stream",
     "text": [
      "dt: 0.6740331491712708\n",
      "dt: 0.6208791208791209\n"
     ]
    }
   ],
   "source": [
    "from sklearn.tree import DecisionTreeClassifier\n",
    "\n",
    "dt = DecisionTreeClassifier(random_state=0,max_depth=3)\n",
    "print(\"dt train:\", acc(y_accent_train_ml,dt.fit(X_train_ml, y_accent_train_ml).predict(X_train_ml)))\n",
    "print(\"dt test:\", acc(y_accent_test_ml,dt.fit(X_train_ml, y_accent_train_ml).predict(X_test_ml)))"
   ]
  },
  {
   "cell_type": "code",
   "execution_count": null,
   "metadata": {},
   "outputs": [],
   "source": []
  },
  {
   "cell_type": "code",
   "execution_count": 92,
   "metadata": {},
   "outputs": [
    {
     "name": "stderr",
     "output_type": "stream",
     "text": [
      "/opt/anaconda3/lib/python3.9/site-packages/sklearn/utils/validation.py:63: DataConversionWarning: A column-vector y was passed when a 1d array was expected. Please change the shape of y to (n_samples, ), for example using ravel().\n",
      "  return f(*args, **kwargs)\n"
     ]
    },
    {
     "name": "stdout",
     "output_type": "stream",
     "text": [
      "svc train: 0.5538674033149171\n"
     ]
    },
    {
     "name": "stderr",
     "output_type": "stream",
     "text": [
      "/opt/anaconda3/lib/python3.9/site-packages/sklearn/utils/validation.py:63: DataConversionWarning: A column-vector y was passed when a 1d array was expected. Please change the shape of y to (n_samples, ), for example using ravel().\n",
      "  return f(*args, **kwargs)\n"
     ]
    },
    {
     "name": "stdout",
     "output_type": "stream",
     "text": [
      "svc train: 0.56\n"
     ]
    },
    {
     "name": "stderr",
     "output_type": "stream",
     "text": [
      "/opt/anaconda3/lib/python3.9/site-packages/sklearn/utils/validation.py:63: DataConversionWarning: A column-vector y was passed when a 1d array was expected. Please change the shape of y to (n_samples, ), for example using ravel().\n",
      "  return f(*args, **kwargs)\n"
     ]
    },
    {
     "name": "stdout",
     "output_type": "stream",
     "text": [
      "svc train: 0.5972413793103448\n"
     ]
    },
    {
     "name": "stderr",
     "output_type": "stream",
     "text": [
      "/opt/anaconda3/lib/python3.9/site-packages/sklearn/utils/validation.py:63: DataConversionWarning: A column-vector y was passed when a 1d array was expected. Please change the shape of y to (n_samples, ), for example using ravel().\n",
      "  return f(*args, **kwargs)\n"
     ]
    },
    {
     "name": "stdout",
     "output_type": "stream",
     "text": [
      "svc train: 0.7531034482758621\n"
     ]
    },
    {
     "name": "stderr",
     "output_type": "stream",
     "text": [
      "/opt/anaconda3/lib/python3.9/site-packages/sklearn/utils/validation.py:63: DataConversionWarning: A column-vector y was passed when a 1d array was expected. Please change the shape of y to (n_samples, ), for example using ravel().\n",
      "  return f(*args, **kwargs)\n"
     ]
    },
    {
     "name": "stdout",
     "output_type": "stream",
     "text": [
      "svc train: 0.7986206896551724\n"
     ]
    }
   ],
   "source": [
    "y_accent_ml = np.zeros(shape=(906,1))\n",
    "X_ml = np.reshape(X,(906,8620))\n",
    "for i in range(906):\n",
    "    for j in range(4):\n",
    "        if y_accent_[i,j]==1:\n",
    "            y_accent_ml[i,0] = j\n",
    "\n",
    "from sklearn.model_selection import KFold\n",
    "k_fold = KFold(n_splits=5, shuffle=False) \n",
    "\n",
    "for k, (train, test) in enumerate(k_fold.split(X_ml)):\n",
    "    print(\"svc train:\", acc(y_accent_ml[train],svm.fit(X_ml[train],y_accent_ml[train]).predict(X_ml[train])))"
   ]
  },
  {
   "cell_type": "code",
   "execution_count": null,
   "metadata": {},
   "outputs": [],
   "source": []
  }
 ],
 "metadata": {
  "kernelspec": {
   "display_name": "Python 3 (ipykernel)",
   "language": "python",
   "name": "python3"
  },
  "language_info": {
   "codemirror_mode": {
    "name": "ipython",
    "version": 3
   },
   "file_extension": ".py",
   "mimetype": "text/x-python",
   "name": "python",
   "nbconvert_exporter": "python",
   "pygments_lexer": "ipython3",
   "version": "3.9.7"
  }
 },
 "nbformat": 4,
 "nbformat_minor": 4
}
