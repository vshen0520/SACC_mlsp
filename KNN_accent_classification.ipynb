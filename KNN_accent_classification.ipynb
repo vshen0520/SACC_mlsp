{
 "cells": [
  {
   "cell_type": "markdown",
   "metadata": {},
   "source": [
    "MFCC as feature"
   ]
  },
  {
   "cell_type": "code",
   "execution_count": 1,
   "metadata": {},
   "outputs": [],
   "source": [
    "import pandas as pd\n",
    "import numpy as np\n",
    "import os\n",
    "import wave\n",
    "from scipy import signal\n",
    "from scipy.io import wavfile\n",
    "import IPython.display as ipd\n",
    "import librosa\n",
    "import librosa.display\n",
    "from sklearn.preprocessing import LabelEncoder"
   ]
  },
  {
   "cell_type": "code",
   "execution_count": 2,
   "metadata": {},
   "outputs": [
    {
     "data": {
      "text/html": [
       "<div>\n",
       "<style scoped>\n",
       "    .dataframe tbody tr th:only-of-type {\n",
       "        vertical-align: middle;\n",
       "    }\n",
       "\n",
       "    .dataframe tbody tr th {\n",
       "        vertical-align: top;\n",
       "    }\n",
       "\n",
       "    .dataframe thead th {\n",
       "        text-align: right;\n",
       "    }\n",
       "</style>\n",
       "<table border=\"1\" class=\"dataframe\">\n",
       "  <thead>\n",
       "    <tr style=\"text-align: right;\">\n",
       "      <th></th>\n",
       "      <th>age</th>\n",
       "      <th>age_onset</th>\n",
       "      <th>birthplace</th>\n",
       "      <th>filename</th>\n",
       "      <th>native_language</th>\n",
       "      <th>sex</th>\n",
       "      <th>country</th>\n",
       "      <th>file_missing?</th>\n",
       "    </tr>\n",
       "    <tr>\n",
       "      <th>speakerid</th>\n",
       "      <th></th>\n",
       "      <th></th>\n",
       "      <th></th>\n",
       "      <th></th>\n",
       "      <th></th>\n",
       "      <th></th>\n",
       "      <th></th>\n",
       "      <th></th>\n",
       "    </tr>\n",
       "  </thead>\n",
       "  <tbody>\n",
       "    <tr>\n",
       "      <th>1</th>\n",
       "      <td>27.0</td>\n",
       "      <td>9.0</td>\n",
       "      <td>virginia, south africa</td>\n",
       "      <td>afrikaans1</td>\n",
       "      <td>afrikaans</td>\n",
       "      <td>female</td>\n",
       "      <td>south africa</td>\n",
       "      <td>False</td>\n",
       "    </tr>\n",
       "    <tr>\n",
       "      <th>2</th>\n",
       "      <td>40.0</td>\n",
       "      <td>5.0</td>\n",
       "      <td>pretoria, south africa</td>\n",
       "      <td>afrikaans2</td>\n",
       "      <td>afrikaans</td>\n",
       "      <td>male</td>\n",
       "      <td>south africa</td>\n",
       "      <td>False</td>\n",
       "    </tr>\n",
       "    <tr>\n",
       "      <th>418</th>\n",
       "      <td>43.0</td>\n",
       "      <td>4.0</td>\n",
       "      <td>pretoria, transvaal, south africa</td>\n",
       "      <td>afrikaans3</td>\n",
       "      <td>afrikaans</td>\n",
       "      <td>male</td>\n",
       "      <td>south africa</td>\n",
       "      <td>False</td>\n",
       "    </tr>\n",
       "    <tr>\n",
       "      <th>1159</th>\n",
       "      <td>26.0</td>\n",
       "      <td>8.0</td>\n",
       "      <td>pretoria, south africa</td>\n",
       "      <td>afrikaans4</td>\n",
       "      <td>afrikaans</td>\n",
       "      <td>male</td>\n",
       "      <td>south africa</td>\n",
       "      <td>False</td>\n",
       "    </tr>\n",
       "    <tr>\n",
       "      <th>1432</th>\n",
       "      <td>19.0</td>\n",
       "      <td>6.0</td>\n",
       "      <td>cape town, south africa</td>\n",
       "      <td>afrikaans5</td>\n",
       "      <td>afrikaans</td>\n",
       "      <td>male</td>\n",
       "      <td>south africa</td>\n",
       "      <td>False</td>\n",
       "    </tr>\n",
       "    <tr>\n",
       "      <th>...</th>\n",
       "      <td>...</td>\n",
       "      <td>...</td>\n",
       "      <td>...</td>\n",
       "      <td>...</td>\n",
       "      <td>...</td>\n",
       "      <td>...</td>\n",
       "      <td>...</td>\n",
       "      <td>...</td>\n",
       "    </tr>\n",
       "    <tr>\n",
       "      <th>766</th>\n",
       "      <td>46.0</td>\n",
       "      <td>5.0</td>\n",
       "      <td>lagos, nigeria</td>\n",
       "      <td>yoruba3</td>\n",
       "      <td>yoruba</td>\n",
       "      <td>female</td>\n",
       "      <td>nigeria</td>\n",
       "      <td>False</td>\n",
       "    </tr>\n",
       "    <tr>\n",
       "      <th>851</th>\n",
       "      <td>46.0</td>\n",
       "      <td>12.0</td>\n",
       "      <td>lagos, nigeria</td>\n",
       "      <td>yoruba4</td>\n",
       "      <td>yoruba</td>\n",
       "      <td>male</td>\n",
       "      <td>nigeria</td>\n",
       "      <td>False</td>\n",
       "    </tr>\n",
       "    <tr>\n",
       "      <th>2023</th>\n",
       "      <td>47.0</td>\n",
       "      <td>2.0</td>\n",
       "      <td>ibadan, nigeria</td>\n",
       "      <td>yoruba5</td>\n",
       "      <td>yoruba</td>\n",
       "      <td>female</td>\n",
       "      <td>nigeria</td>\n",
       "      <td>False</td>\n",
       "    </tr>\n",
       "    <tr>\n",
       "      <th>571</th>\n",
       "      <td>31.0</td>\n",
       "      <td>1.0</td>\n",
       "      <td>bethel, alaska, usa</td>\n",
       "      <td>yupik1</td>\n",
       "      <td>yupik</td>\n",
       "      <td>female</td>\n",
       "      <td>usa</td>\n",
       "      <td>False</td>\n",
       "    </tr>\n",
       "    <tr>\n",
       "      <th>406</th>\n",
       "      <td>24.0</td>\n",
       "      <td>14.0</td>\n",
       "      <td>bulawayo, zimbabwe</td>\n",
       "      <td>zulu1</td>\n",
       "      <td>zulu</td>\n",
       "      <td>female</td>\n",
       "      <td>zimbabwe</td>\n",
       "      <td>False</td>\n",
       "    </tr>\n",
       "  </tbody>\n",
       "</table>\n",
       "<p>2140 rows × 8 columns</p>\n",
       "</div>"
      ],
      "text/plain": [
       "            age  age_onset                         birthplace    filename  \\\n",
       "speakerid                                                                   \n",
       "1          27.0        9.0             virginia, south africa  afrikaans1   \n",
       "2          40.0        5.0             pretoria, south africa  afrikaans2   \n",
       "418        43.0        4.0  pretoria, transvaal, south africa  afrikaans3   \n",
       "1159       26.0        8.0             pretoria, south africa  afrikaans4   \n",
       "1432       19.0        6.0            cape town, south africa  afrikaans5   \n",
       "...         ...        ...                                ...         ...   \n",
       "766        46.0        5.0                     lagos, nigeria     yoruba3   \n",
       "851        46.0       12.0                     lagos, nigeria     yoruba4   \n",
       "2023       47.0        2.0                    ibadan, nigeria     yoruba5   \n",
       "571        31.0        1.0                bethel, alaska, usa      yupik1   \n",
       "406        24.0       14.0                 bulawayo, zimbabwe       zulu1   \n",
       "\n",
       "          native_language     sex       country  file_missing?  \n",
       "speakerid                                                       \n",
       "1               afrikaans  female  south africa          False  \n",
       "2               afrikaans    male  south africa          False  \n",
       "418             afrikaans    male  south africa          False  \n",
       "1159            afrikaans    male  south africa          False  \n",
       "1432            afrikaans    male  south africa          False  \n",
       "...                   ...     ...           ...            ...  \n",
       "766                yoruba  female       nigeria          False  \n",
       "851                yoruba    male       nigeria          False  \n",
       "2023               yoruba  female       nigeria          False  \n",
       "571                 yupik  female           usa          False  \n",
       "406                  zulu  female      zimbabwe          False  \n",
       "\n",
       "[2140 rows x 8 columns]"
      ]
     },
     "execution_count": 2,
     "metadata": {},
     "output_type": "execute_result"
    }
   ],
   "source": [
    "data=pd.read_csv(\"archive/speakers_all.csv\",index_col='speakerid')\n",
    "data = data.iloc[:,:8]\n",
    "data = data[data['file_missing?']==False]\n",
    "data"
   ]
  },
  {
   "cell_type": "code",
   "execution_count": 3,
   "metadata": {},
   "outputs": [
    {
     "name": "stdout",
     "output_type": "stream",
     "text": [
      "{'nicaragua.mp3', 'sinhalese1.mp3'}\n"
     ]
    },
    {
     "data": {
      "text/html": [
       "<div>\n",
       "<style scoped>\n",
       "    .dataframe tbody tr th:only-of-type {\n",
       "        vertical-align: middle;\n",
       "    }\n",
       "\n",
       "    .dataframe tbody tr th {\n",
       "        vertical-align: top;\n",
       "    }\n",
       "\n",
       "    .dataframe thead th {\n",
       "        text-align: right;\n",
       "    }\n",
       "</style>\n",
       "<table border=\"1\" class=\"dataframe\">\n",
       "  <thead>\n",
       "    <tr style=\"text-align: right;\">\n",
       "      <th></th>\n",
       "      <th>age</th>\n",
       "      <th>age_onset</th>\n",
       "      <th>birthplace</th>\n",
       "      <th>filename</th>\n",
       "      <th>native_language</th>\n",
       "      <th>sex</th>\n",
       "      <th>country</th>\n",
       "      <th>file_missing?</th>\n",
       "    </tr>\n",
       "    <tr>\n",
       "      <th>speakerid</th>\n",
       "      <th></th>\n",
       "      <th></th>\n",
       "      <th></th>\n",
       "      <th></th>\n",
       "      <th></th>\n",
       "      <th></th>\n",
       "      <th></th>\n",
       "      <th></th>\n",
       "    </tr>\n",
       "  </thead>\n",
       "  <tbody>\n",
       "    <tr>\n",
       "      <th>1</th>\n",
       "      <td>27.0</td>\n",
       "      <td>9.0</td>\n",
       "      <td>virginia, south africa</td>\n",
       "      <td>afrikaans1</td>\n",
       "      <td>afrikaans</td>\n",
       "      <td>female</td>\n",
       "      <td>south africa</td>\n",
       "      <td>False</td>\n",
       "    </tr>\n",
       "    <tr>\n",
       "      <th>2</th>\n",
       "      <td>40.0</td>\n",
       "      <td>5.0</td>\n",
       "      <td>pretoria, south africa</td>\n",
       "      <td>afrikaans2</td>\n",
       "      <td>afrikaans</td>\n",
       "      <td>male</td>\n",
       "      <td>south africa</td>\n",
       "      <td>False</td>\n",
       "    </tr>\n",
       "    <tr>\n",
       "      <th>418</th>\n",
       "      <td>43.0</td>\n",
       "      <td>4.0</td>\n",
       "      <td>pretoria, transvaal, south africa</td>\n",
       "      <td>afrikaans3</td>\n",
       "      <td>afrikaans</td>\n",
       "      <td>male</td>\n",
       "      <td>south africa</td>\n",
       "      <td>False</td>\n",
       "    </tr>\n",
       "    <tr>\n",
       "      <th>1159</th>\n",
       "      <td>26.0</td>\n",
       "      <td>8.0</td>\n",
       "      <td>pretoria, south africa</td>\n",
       "      <td>afrikaans4</td>\n",
       "      <td>afrikaans</td>\n",
       "      <td>male</td>\n",
       "      <td>south africa</td>\n",
       "      <td>False</td>\n",
       "    </tr>\n",
       "    <tr>\n",
       "      <th>1432</th>\n",
       "      <td>19.0</td>\n",
       "      <td>6.0</td>\n",
       "      <td>cape town, south africa</td>\n",
       "      <td>afrikaans5</td>\n",
       "      <td>afrikaans</td>\n",
       "      <td>male</td>\n",
       "      <td>south africa</td>\n",
       "      <td>False</td>\n",
       "    </tr>\n",
       "    <tr>\n",
       "      <th>...</th>\n",
       "      <td>...</td>\n",
       "      <td>...</td>\n",
       "      <td>...</td>\n",
       "      <td>...</td>\n",
       "      <td>...</td>\n",
       "      <td>...</td>\n",
       "      <td>...</td>\n",
       "      <td>...</td>\n",
       "    </tr>\n",
       "    <tr>\n",
       "      <th>766</th>\n",
       "      <td>46.0</td>\n",
       "      <td>5.0</td>\n",
       "      <td>lagos, nigeria</td>\n",
       "      <td>yoruba3</td>\n",
       "      <td>yoruba</td>\n",
       "      <td>female</td>\n",
       "      <td>nigeria</td>\n",
       "      <td>False</td>\n",
       "    </tr>\n",
       "    <tr>\n",
       "      <th>851</th>\n",
       "      <td>46.0</td>\n",
       "      <td>12.0</td>\n",
       "      <td>lagos, nigeria</td>\n",
       "      <td>yoruba4</td>\n",
       "      <td>yoruba</td>\n",
       "      <td>male</td>\n",
       "      <td>nigeria</td>\n",
       "      <td>False</td>\n",
       "    </tr>\n",
       "    <tr>\n",
       "      <th>2023</th>\n",
       "      <td>47.0</td>\n",
       "      <td>2.0</td>\n",
       "      <td>ibadan, nigeria</td>\n",
       "      <td>yoruba5</td>\n",
       "      <td>yoruba</td>\n",
       "      <td>female</td>\n",
       "      <td>nigeria</td>\n",
       "      <td>False</td>\n",
       "    </tr>\n",
       "    <tr>\n",
       "      <th>571</th>\n",
       "      <td>31.0</td>\n",
       "      <td>1.0</td>\n",
       "      <td>bethel, alaska, usa</td>\n",
       "      <td>yupik1</td>\n",
       "      <td>yupik</td>\n",
       "      <td>female</td>\n",
       "      <td>usa</td>\n",
       "      <td>False</td>\n",
       "    </tr>\n",
       "    <tr>\n",
       "      <th>406</th>\n",
       "      <td>24.0</td>\n",
       "      <td>14.0</td>\n",
       "      <td>bulawayo, zimbabwe</td>\n",
       "      <td>zulu1</td>\n",
       "      <td>zulu</td>\n",
       "      <td>female</td>\n",
       "      <td>zimbabwe</td>\n",
       "      <td>False</td>\n",
       "    </tr>\n",
       "  </tbody>\n",
       "</table>\n",
       "<p>2138 rows × 8 columns</p>\n",
       "</div>"
      ],
      "text/plain": [
       "            age  age_onset                         birthplace    filename  \\\n",
       "speakerid                                                                   \n",
       "1          27.0        9.0             virginia, south africa  afrikaans1   \n",
       "2          40.0        5.0             pretoria, south africa  afrikaans2   \n",
       "418        43.0        4.0  pretoria, transvaal, south africa  afrikaans3   \n",
       "1159       26.0        8.0             pretoria, south africa  afrikaans4   \n",
       "1432       19.0        6.0            cape town, south africa  afrikaans5   \n",
       "...         ...        ...                                ...         ...   \n",
       "766        46.0        5.0                     lagos, nigeria     yoruba3   \n",
       "851        46.0       12.0                     lagos, nigeria     yoruba4   \n",
       "2023       47.0        2.0                    ibadan, nigeria     yoruba5   \n",
       "571        31.0        1.0                bethel, alaska, usa      yupik1   \n",
       "406        24.0       14.0                 bulawayo, zimbabwe       zulu1   \n",
       "\n",
       "          native_language     sex       country  file_missing?  \n",
       "speakerid                                                       \n",
       "1               afrikaans  female  south africa          False  \n",
       "2               afrikaans    male  south africa          False  \n",
       "418             afrikaans    male  south africa          False  \n",
       "1159            afrikaans    male  south africa          False  \n",
       "1432            afrikaans    male  south africa          False  \n",
       "...                   ...     ...           ...            ...  \n",
       "766                yoruba  female       nigeria          False  \n",
       "851                yoruba    male       nigeria          False  \n",
       "2023               yoruba  female       nigeria          False  \n",
       "571                 yupik  female           usa          False  \n",
       "406                  zulu  female      zimbabwe          False  \n",
       "\n",
       "[2138 rows x 8 columns]"
      ]
     },
     "execution_count": 3,
     "metadata": {},
     "output_type": "execute_result"
    }
   ],
   "source": [
    "INPUT_DIR = 'archive/recordings/recordings'\n",
    "OUTPUT_DIR = 'results'\n",
    "parent_list = os.listdir(INPUT_DIR)\n",
    "\n",
    "print(set(data['filename']+'.mp3') - set(parent_list))\n",
    "\n",
    "data = data.drop(data[data['filename']=='sinhalese1'].index)\n",
    "data = data.drop(data[data['filename']=='nicaragua'].index)\n",
    "data"
   ]
  },
  {
   "cell_type": "code",
   "execution_count": 29,
   "metadata": {
    "scrolled": true
   },
   "outputs": [
    {
     "name": "stderr",
     "output_type": "stream",
     "text": [
      "D:\\py\\anaconda3\\lib\\site-packages\\librosa\\util\\decorators.py:88: UserWarning: PySoundFile failed. Trying audioread instead.\n",
      "  return f(*args, **kwargs)\n"
     ]
    }
   ],
   "source": [
    "#features = feature_extractor(parent_list, feature_type='mfcc')\n",
    "\n",
    "features = np.zeros(shape=(2138,10,862))\n",
    "i=0\n",
    "SAMPLE_RATE = 22050\n",
    "dire = 'archive/recordings/recordings/'\n",
    "for file in parent_list[:]:\n",
    "    f_name = str(dire+file)\n",
    "    y, sr = librosa.load(f_name, sr=SAMPLE_RATE, duration = 20 )     # duration 10s\n",
    "    mfcc = librosa.feature.mfcc(y=y, sr=SAMPLE_RATE, n_mfcc =10)\n",
    "    if len(mfcc[1]) < 862:\n",
    "        offset = 862 - len(mfcc[1])\n",
    "        mfcc= np.pad(mfcc,((0,0),(offset,0)), 'constant')\n",
    "        \n",
    "    features[i,:,:]=mfcc\n",
    "    i+=1"
   ]
  },
  {
   "cell_type": "code",
   "execution_count": 30,
   "metadata": {},
   "outputs": [],
   "source": [
    "np.save(\"knn_features.npy\",features)"
   ]
  },
  {
   "cell_type": "code",
   "execution_count": 31,
   "metadata": {},
   "outputs": [
    {
     "name": "stdout",
     "output_type": "stream",
     "text": [
      "(2138, 10, 862)\n"
     ]
    }
   ],
   "source": [
    "X = np.load(\"knn_features.npy\")\n",
    "print(np.shape(X))"
   ]
  },
  {
   "cell_type": "code",
   "execution_count": 32,
   "metadata": {},
   "outputs": [
    {
     "name": "stdout",
     "output_type": "stream",
     "text": [
      "(2138, 200)\n"
     ]
    }
   ],
   "source": [
    "y_accent = data['native_language']\n",
    "\n",
    "encoder1 = LabelEncoder()\n",
    "encoder1.fit(y_accent)\n",
    "y_accent_ = encoder1.transform(y_accent)\n",
    "y_accent_ = to_categorical(np.array(y_accent_),dtype='float32')\n",
    "print(np.shape(y_accent_))  #200 categories."
   ]
  },
  {
   "cell_type": "code",
   "execution_count": 33,
   "metadata": {},
   "outputs": [
    {
     "name": "stdout",
     "output_type": "stream",
     "text": [
      "Train set: (1710, 10, 862, 1) (1710, 200)\n",
      "Test set: (428, 10, 862, 1) (428, 200)\n"
     ]
    }
   ],
   "source": [
    "from sklearn.model_selection import train_test_split\n",
    "\n",
    "X_train, X_test, y_accent_train, y_accent_test = train_test_split(X, y_accent_, test_size=0.2, random_state=10)\n",
    "\n",
    "mean = np.mean(X_train, axis=0)\n",
    "std = np.std(X_train, axis=0)\n",
    "\n",
    "X_train = (X_train - mean)/std\n",
    "X_test = (X_test - mean)/std\n",
    "X_train= np.expand_dims(X_train, axis=3)\n",
    "X_test= np.expand_dims(X_test, axis=3)\n",
    "\n",
    "#X_train, X_val, y_accent_train, y_accent_val = train_test_split(X_train, y_accent_train, test_size=0.15, random_state=10)\n",
    "#X_val = (X_val - mean)/std\n",
    "#X_val= np.expand_dims(X_val, axis=3)\n",
    "\n",
    "print ('Train set:', X_train.shape,  y_accent_train.shape)\n",
    "print ('Test set:', X_test.shape,  y_accent_test.shape)\n",
    "#print ('validation set:', X_val.shape,  y_accent_val.shape)"
   ]
  },
  {
   "cell_type": "code",
   "execution_count": 34,
   "metadata": {},
   "outputs": [
    {
     "name": "stdout",
     "output_type": "stream",
     "text": [
      "Train set: (1710, 8620) (1710,)\n",
      "Test set: (428, 8620) (428,)\n"
     ]
    }
   ],
   "source": [
    "newX_train = X_train.reshape(1710, 8620)\n",
    "newX_test = X_test.reshape(428, 8620)\n",
    "\n",
    "y_label_train = y_accent_train.argmax(axis=1)\n",
    "y_label_test =  y_accent_test.argmax(axis=1)\n",
    "\n",
    "print ('Train set:', newX_train.shape,  y_label_train.shape)\n",
    "print ('Test set:', newX_test.shape,  y_label_test.shape)"
   ]
  },
  {
   "cell_type": "code",
   "execution_count": 36,
   "metadata": {
    "scrolled": false
   },
   "outputs": [
    {
     "name": "stdout",
     "output_type": "stream",
     "text": [
      "0.24065420560747663\n"
     ]
    }
   ],
   "source": [
    "from sklearn.preprocessing import StandardScaler\n",
    "\n",
    "scaler = StandardScaler()\n",
    "scaler.fit(newX_train)\n",
    "\n",
    "X_train = scaler.transform(newX_train)\n",
    "X_test = scaler.transform(newX_test)\n",
    "\n",
    "# Training and Predicting for Classification\n",
    "from sklearn.neighbors import KNeighborsClassifier\n",
    "\n",
    "classifier = KNeighborsClassifier()\n",
    "classifier.fit(newX_train, y_label_train)\n",
    "y_pred = classifier.predict(newX_test)\n",
    "\n",
    "# print accuracy\n",
    "acc =  classifier.score(newX_test, y_label_test)\n",
    "print(acc) "
   ]
  },
  {
   "cell_type": "markdown",
   "metadata": {},
   "source": [
    "# 4 classification"
   ]
  },
  {
   "cell_type": "code",
   "execution_count": 12,
   "metadata": {},
   "outputs": [
    {
     "name": "stderr",
     "output_type": "stream",
     "text": [
      "D:\\py\\anaconda3\\lib\\site-packages\\librosa\\util\\decorators.py:88: UserWarning: PySoundFile failed. Trying audioread instead.\n",
      "  return f(*args, **kwargs)\n"
     ]
    }
   ],
   "source": [
    "English = data[data['native_language']=='english']\n",
    "French = data[data['native_language']=='french']\n",
    "Spanish= data[data['native_language']=='spanish']\n",
    "Arabic = data[data['native_language']=='arabic']\n",
    "datanew = English.append(French).append(Spanish).append(Arabic)\n",
    "\n",
    "parent_list_new = datanew['filename']+ '.mp3'\n",
    "\n",
    "#features = feature_extractor(parent_list, feature_type='mfcc')\n",
    "\n",
    "features = np.zeros(shape=(906,10,862))\n",
    "i=0\n",
    "SAMPLE_RATE = 22050\n",
    "dire = 'archive/recordings/recordings/'\n",
    "for file in parent_list_new[:]:\n",
    "    f_name = str(dire+file)\n",
    "    y, sr = librosa.load(f_name, sr=SAMPLE_RATE, duration = 20 )     # duration 10s\n",
    "    mfcc = librosa.feature.mfcc(y=y, sr=SAMPLE_RATE, n_mfcc =10)\n",
    "    if len(mfcc[1]) < 862:\n",
    "        offset = 862 - len(mfcc[1])\n",
    "        mfcc= np.pad(mfcc,((0,0),(offset,0)), 'constant')\n",
    "        \n",
    "    features[i,:,:]=mfcc\n",
    "    i+=1"
   ]
  },
  {
   "cell_type": "code",
   "execution_count": 13,
   "metadata": {},
   "outputs": [
    {
     "name": "stdout",
     "output_type": "stream",
     "text": [
      "(906, 10, 862)\n"
     ]
    }
   ],
   "source": [
    "np.save(\"knn_features_4class.npy\",features)\n",
    "X = np.load(\"knn_features_4class.npy\")\n",
    "print(np.shape(X))"
   ]
  },
  {
   "cell_type": "code",
   "execution_count": 14,
   "metadata": {},
   "outputs": [],
   "source": [
    "#PCA \n",
    "from sklearn.decomposition import PCA\n",
    "proj = np.zeros(shape=(906,10,862))\n",
    "\n",
    "for i in range(906):\n",
    "    X1 = X[i,:,:]\n",
    "    pca = PCA(whiten=True)\n",
    "    X_pca = pca.fit_transform(X1)\n",
    "    proj[i,:,:] = pca.inverse_transform(X_pca)\n",
    "\n",
    "X = proj"
   ]
  },
  {
   "cell_type": "code",
   "execution_count": 15,
   "metadata": {},
   "outputs": [
    {
     "name": "stdout",
     "output_type": "stream",
     "text": [
      "(906, 4)\n"
     ]
    }
   ],
   "source": [
    "y_accent = datanew['native_language']\n",
    "\n",
    "encoder1 = LabelEncoder()\n",
    "encoder1.fit(y_accent)\n",
    "y_accent_ = encoder1.transform(y_accent)\n",
    "y_accent_ = to_categorical(np.array(y_accent_),dtype='float32')\n",
    "print(np.shape(y_accent_))  #4 categories."
   ]
  },
  {
   "cell_type": "code",
   "execution_count": 16,
   "metadata": {},
   "outputs": [
    {
     "name": "stdout",
     "output_type": "stream",
     "text": [
      "Train set: (724, 10, 862, 1) (724, 4)\n",
      "Test set: (182, 10, 862, 1) (182, 4)\n"
     ]
    }
   ],
   "source": [
    "from sklearn.model_selection import train_test_split\n",
    "\n",
    "X_train, X_test, y_accent_train, y_accent_test = train_test_split(X, y_accent_, test_size=0.2, random_state=10)\n",
    "\n",
    "mean = np.mean(X_train, axis=0)\n",
    "std = np.std(X_train, axis=0)\n",
    "\n",
    "X_train = (X_train - mean)/std\n",
    "X_test = (X_test - mean)/std\n",
    "X_train= np.expand_dims(X_train, axis=3)\n",
    "X_test= np.expand_dims(X_test, axis=3)\n",
    "\n",
    "#X_train, X_val, y_accent_train, y_accent_val = train_test_split(X_train, y_accent_train, test_size=0.15, random_state=10)\n",
    "#X_val = (X_val - mean)/std\n",
    "#X_val= np.expand_dims(X_val, axis=3)\n",
    "\n",
    "print ('Train set:', X_train.shape,  y_accent_train.shape)\n",
    "print ('Test set:', X_test.shape,  y_accent_test.shape)\n",
    "#print ('validation set:', X_val.shape,  y_accent_val.shape)\n"
   ]
  },
  {
   "cell_type": "code",
   "execution_count": 27,
   "metadata": {},
   "outputs": [
    {
     "name": "stdout",
     "output_type": "stream",
     "text": [
      "Train set: (724, 8620) (724,)\n",
      "Test set: (182, 8620) (182,)\n"
     ]
    }
   ],
   "source": [
    "newX_train = X_train.reshape(724, 8620)\n",
    "newX_test = X_test.reshape(182, 8620)\n",
    "\n",
    "y_label_train = y_accent_train.argmax(axis=1)\n",
    "y_label_test =  y_accent_test.argmax(axis=1)\n",
    "\n",
    "print ('Train set:', newX_train.shape,  y_label_train.shape)\n",
    "print ('Test set:', newX_test.shape,  y_label_test.shape)"
   ]
  },
  {
   "cell_type": "code",
   "execution_count": 28,
   "metadata": {},
   "outputs": [
    {
     "name": "stdout",
     "output_type": "stream",
     "text": [
      "0.6208791208791209\n"
     ]
    }
   ],
   "source": [
    "# Feature Scaling for Classification\n",
    "from sklearn.preprocessing import StandardScaler\n",
    "\n",
    "scaler = StandardScaler()\n",
    "scaler.fit(newX_train)\n",
    "\n",
    "newX_train = scaler.transform(newX_train)\n",
    "newX_test = scaler.transform(newX_test)\n",
    "\n",
    "# Training and Predicting for Classification\n",
    "from sklearn.neighbors import KNeighborsClassifier\n",
    "\n",
    "classifier = KNeighborsClassifier()\n",
    "classifier.fit(newX_train, y_label_train)\n",
    "y_pred = classifier.predict(newX_test)\n",
    "\n",
    "# print accuracy\n",
    "acc =  classifier.score(newX_test, y_label_test)\n",
    "print(acc) "
   ]
  }
 ],
 "metadata": {
  "kernelspec": {
   "display_name": "Python 3",
   "language": "python",
   "name": "python3"
  },
  "language_info": {
   "codemirror_mode": {
    "name": "ipython",
    "version": 3
   },
   "file_extension": ".py",
   "mimetype": "text/x-python",
   "name": "python",
   "nbconvert_exporter": "python",
   "pygments_lexer": "ipython3",
   "version": "3.8.5"
  }
 },
 "nbformat": 4,
 "nbformat_minor": 4
}
